{
 "cells": [
  {
   "cell_type": "markdown",
   "metadata": {},
   "source": [
    "<center>\n",
    "    <img src=\"https://s3-api.us-geo.objectstorage.softlayer.net/cf-courses-data/CognitiveClass/Logos/organization_logo/organization_logo.png\" width=\"300\" alt=\"cognitiveclass.ai logo\"  />\n",
    "</center>\n"
   ]
  },
  {
   "cell_type": "markdown",
   "metadata": {},
   "source": [
    "#### Add your code below following the instructions given in the course\n"
   ]
  },
  {
   "cell_type": "markdown",
   "metadata": {},
   "source": [
    "<h1>My Jupyter Notebook on IBM Watson Studio</h1>"
   ]
  },
  {
   "cell_type": "markdown",
   "metadata": {},
   "source": [
    "**Jaime Antonio Escudero Holguin**\n",
    "\n",
    "&nbsp;\n",
    "Analista Estadistico"
   ]
  },
  {
   "cell_type": "markdown",
   "metadata": {},
   "source": [
    "*Estoy interesado en la ciencia de datos porque quiero cambiar mi carrera en poco tiempo, Ademas, es de muy alta demanda.*"
   ]
  },
  {
   "cell_type": "markdown",
   "metadata": {},
   "source": [
    "<h3>Voy a imprimir en valor de n.</h3>"
   ]
  },
  {
   "cell_type": "code",
   "execution_count": 1,
   "metadata": {},
   "outputs": [
    {
     "data": {
      "text/plain": [
       "10"
      ]
     },
     "execution_count": 1,
     "metadata": {},
     "output_type": "execute_result"
    }
   ],
   "source": [
    "5+5\n"
   ]
  },
  {
   "cell_type": "markdown",
   "metadata": {},
   "source": [
    "Celda 6 (representada como Markdown) : con Markdown o HTML, esta celda debe incluir al menos 3 de los siguientes: regla horizontal, lista con viñetas, lista numerada, tablas, hipervínculos, imágenes, resaltado de código/sintaxis, comillas bloqueadas, tachado.\n",
    "\n",
    "\n",
    "1. tachado\n",
    "\n",
    "2. \\_sombreado\\_\n",
    "\n",
    "\n",
    "*esta contiene vineta\n",
    "\n",
    "\n",
    "    *esta es de segnudo nivel\n",
    "\n",
    "\n",
    "\n",
    "---\n",
    "\n",
    "3. ![imagen no disponible](https://encrypted-tbn0.gstatic.com/images?q=tbn:ANd9GcQAZECl_GWRaUTp81bHlSAXAt8wbZHP5riehtuW3-RuFwii7-dOCNRFrQzomopOtyk2Cjo&usqp=CAU)\n",
    "\n",
    "4. [Servicio Nacional de Aduana del Ecuador](https://www.aduana.gob.ec/)"
   ]
  }
 ],
 "metadata": {
  "kernelspec": {
   "display_name": "Python 3.9.13 64-bit",
   "language": "python",
   "name": "python3"
  },
  "language_info": {
   "codemirror_mode": {
    "name": "ipython",
    "version": 3
   },
   "file_extension": ".py",
   "mimetype": "text/x-python",
   "name": "python",
   "nbconvert_exporter": "python",
   "pygments_lexer": "ipython3",
   "version": "3.9.13"
  },
  "vscode": {
   "interpreter": {
    "hash": "45261be9cc0f41be1f565aa6dd69bddf9c888f85d85e645d7e4e637b934ed410"
   }
  }
 },
 "nbformat": 4,
 "nbformat_minor": 4
}
